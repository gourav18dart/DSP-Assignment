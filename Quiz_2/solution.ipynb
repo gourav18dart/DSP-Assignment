{
 "cells": [
  {
   "cell_type": "code",
   "execution_count": null,
   "id": "c9cbca89",
   "metadata": {},
   "outputs": [],
   "source": [
    "import pandas as pd\n",
    "\n",
    "\n",
    "df = pd.DataFrame({\n",
    "    'Student': ['Alice', 'Bob', 'Charlie', 'David', 'Eve', 'Frank'],\n",
    "    'Age': [5, 16, 25, 45, 70, 19],\n",
    "    'Attendance (%)': [95, 80, 60, 45, 85, 50]\n",
    "})\n"
   ]
  },
  {
   "cell_type": "code",
   "execution_count": 3,
   "id": "64b66edb",
   "metadata": {},
   "outputs": [
    {
     "name": "stdout",
     "output_type": "stream",
     "text": [
      "   Student  Age  Attendance (%) Category Attendance Status\n",
      "0    Alice    5              95    Child              Good\n",
      "1      Bob   16              80     Teen              Good\n",
      "2  Charlie   25              60    Adult           Average\n",
      "3    David   45              45    Adult              Poor\n",
      "4      Eve   70              85   Senior              Good\n",
      "5    Frank   19              50     Teen           Average\n"
     ]
    }
   ],
   "source": [
    "# Categorizing students based on age\n",
    "df['Category'] = df['Age'].map(lambda x:\n",
    "    'Child' if x < 13 else\n",
    "    'Teen' if x < 20 else\n",
    "    'Adult' if x < 60 else\n",
    "    'Senior')\n",
    "\n",
    "# Categorizing students based on attendance percentage\n",
    "df['Attendance Status'] = df['Attendance (%)'].map(lambda x:\n",
    "    'Good' if x >= 75 else\n",
    "    'Average' if x >= 50 else\n",
    "    'Poor')\n",
    "\n",
    "print(df)\n"
   ]
  },
  {
   "cell_type": "code",
   "execution_count": null,
   "id": "5f62bfee",
   "metadata": {},
   "outputs": [],
   "source": []
  }
 ],
 "metadata": {
  "kernelspec": {
   "display_name": "base",
   "language": "python",
   "name": "python3"
  },
  "language_info": {
   "codemirror_mode": {
    "name": "ipython",
    "version": 3
   },
   "file_extension": ".py",
   "mimetype": "text/x-python",
   "name": "python",
   "nbconvert_exporter": "python",
   "pygments_lexer": "ipython3",
   "version": "3.12.7"
  }
 },
 "nbformat": 4,
 "nbformat_minor": 5
}
